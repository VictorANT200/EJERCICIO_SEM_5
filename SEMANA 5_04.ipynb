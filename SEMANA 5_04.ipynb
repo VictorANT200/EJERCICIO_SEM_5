{
 "cells": [
  {
   "cell_type": "markdown",
   "id": "8e1d9990",
   "metadata": {},
   "source": [
    "# SEMANA 5 - 04\n",
    "tinoco aguilar victor antonio"
   ]
  },
  {
   "cell_type": "code",
   "execution_count": 1,
   "id": "d5917822",
   "metadata": {},
   "outputs": [],
   "source": [
    "#4. CLASES Y OBJETOS\n",
    "# Problema 01\n",
    "\n",
    "# Crear la siguiente clase:\n",
    "#   - Clase: Persona\n",
    "#   - Atributos: nombre, apellido, fecha_nacimiento, dni"
   ]
  },
  {
   "cell_type": "code",
   "execution_count": 2,
   "id": "6ffe0d52",
   "metadata": {},
   "outputs": [],
   "source": [
    "class Persona:\n",
    "    nombre = \"\"\n",
    "    apellidos = \"\"\n",
    "    dni = \"\"\n",
    "    talla = 0"
   ]
  },
  {
   "cell_type": "code",
   "execution_count": 4,
   "id": "0c11f197",
   "metadata": {},
   "outputs": [
    {
     "name": "stdout",
     "output_type": "stream",
     "text": [
      "persona1\n",
      "Nombre: Victor\n",
      "Apellidos: Tinoco Aguilar\n",
      "DNI: 12345678\n",
      "Talla: 1.65\n"
     ]
    }
   ],
   "source": [
    "# Creamos un objeto persona1 de la clase Persona()\n",
    "# y le asignamos valores\n",
    "\n",
    "#Creación del objeto persona1\n",
    "persona1 = Persona()\n",
    "\n",
    "# Asignamos valores al objeto\n",
    "persona1.nombre = \"Victor\"\n",
    "persona1.apellidos = \"Tinoco Aguilar\"\n",
    "persona1.dni = \"12345678\"\n",
    "persona1.talla = 1.65\n",
    "\n",
    "# Para mostrar valores del objeto:\n",
    "print(\"persona1\")\n",
    "print(f\"Nombre: {persona1.nombre}\")\n",
    "print(f\"Apellidos: {persona1.apellidos}\")\n",
    "print(f\"DNI: {persona1.dni}\")\n",
    "print(f\"Talla: {persona1.talla}\")\n"
   ]
  },
  {
   "cell_type": "code",
   "execution_count": 5,
   "id": "ec261cf4",
   "metadata": {},
   "outputs": [],
   "source": [
    "# Para utilizar constructores utilizamos: __init__\n",
    "# ¿Qué es un constructor?\n",
    "# - Es un método\n",
    "# - Sirve para inicializar valores a una clase"
   ]
  },
  {
   "cell_type": "code",
   "execution_count": 6,
   "id": "a8cf80a0",
   "metadata": {},
   "outputs": [],
   "source": [
    "#Problema 02:\n",
    "\n",
    "# Crear la siguiente clase y utilizar constructores:\n",
    "#  - Clase: Curso\n",
    "#  - Atributos: Codigo, Nombre, horas, creditos,"
   ]
  },
  {
   "cell_type": "code",
   "execution_count": 7,
   "id": "1a5ae154",
   "metadata": {},
   "outputs": [],
   "source": [
    "class curso:\n",
    "    def __init__(self, codigo, nombre, horas, creditos):\n",
    "        self.codigo = codigo\n",
    "        self.nombre = nombre\n",
    "        self.horas = horas\n",
    "        self.creditos = creditos\n",
    "\n",
    "    def mostrar_datos_curso(self):\n",
    "        print(f\"Curso: {self.nombre}\")\n",
    "        print(f\"Código: {self.codigo}\")\n",
    "        print(f\"Horas: {self.horas}\")\n",
    "        print(f\"Créditos: {self.creditos}\")"
   ]
  },
  {
   "cell_type": "code",
   "execution_count": 8,
   "id": "40f04e85",
   "metadata": {},
   "outputs": [],
   "source": [
    "# Creamos el objeto curso1 y le mandamos parámetros\n",
    "curso1 = curso(\"C0501\",\"LP3\",6,3)"
   ]
  },
  {
   "cell_type": "code",
   "execution_count": 9,
   "id": "af483fe5",
   "metadata": {},
   "outputs": [
    {
     "name": "stdout",
     "output_type": "stream",
     "text": [
      "Curso: LP3\n",
      "Código: C0501\n",
      "Horas: 6\n",
      "Créditos: 3\n"
     ]
    }
   ],
   "source": [
    "# Mostramos los datos completos del curso, ejecutando el metodo mostrar_datos_curso()\n",
    "curso1.mostrar_datos_curso();"
   ]
  },
  {
   "cell_type": "code",
   "execution_count": null,
   "id": "6048cbae",
   "metadata": {},
   "outputs": [],
   "source": []
  }
 ],
 "metadata": {
  "kernelspec": {
   "display_name": "Python 3 (ipykernel)",
   "language": "python",
   "name": "python3"
  },
  "language_info": {
   "codemirror_mode": {
    "name": "ipython",
    "version": 3
   },
   "file_extension": ".py",
   "mimetype": "text/x-python",
   "name": "python",
   "nbconvert_exporter": "python",
   "pygments_lexer": "ipython3",
   "version": "3.9.12"
  }
 },
 "nbformat": 4,
 "nbformat_minor": 5
}
