{
 "cells": [
  {
   "cell_type": "markdown",
   "id": "71876376",
   "metadata": {},
   "source": [
    "# Semana 5 -02\n",
    "tinoco aguilar victor antonio"
   ]
  },
  {
   "cell_type": "code",
   "execution_count": 1,
   "id": "996ab3c4",
   "metadata": {},
   "outputs": [],
   "source": [
    "#2.1 Estructuras Decisivas(if,elif,else)"
   ]
  },
  {
   "cell_type": "code",
   "execution_count": 2,
   "id": "40c5ee03",
   "metadata": {},
   "outputs": [],
   "source": [
    "#if\n",
    "#problema: dado el precio de 3 productos ingresados por el teclado\n",
    "#aplicar un descuento de 10% si la venta es mayor a igual a 1000"
   ]
  },
  {
   "cell_type": "code",
   "execution_count": 4,
   "id": "d3f9bf04",
   "metadata": {},
   "outputs": [
    {
     "name": "stdout",
     "output_type": "stream",
     "text": [
      "Producto 1: 78\n",
      "Producto 2: 964\n",
      "Producto 3: 241\n",
      "El total a pagar es:1154.7\n"
     ]
    }
   ],
   "source": [
    "P1=float(input(\"Producto 1: \"))\n",
    "P2=float(input(\"Producto 2: \"))\n",
    "P3=float(input(\"Producto 3: \"))\n",
    "total=P1++P2+P3\n",
    "if total>=1000:\n",
    "    total*=0.9\n",
    "print(f\"El total a pagar es:{total}\")"
   ]
  },
  {
   "cell_type": "code",
   "execution_count": 5,
   "id": "c05ca90e",
   "metadata": {},
   "outputs": [],
   "source": [
    "#if-else\n",
    "# Problema 01 (Recordando)\n",
    "# Dado una lista de AMES, ARTEAGA, BARRIOS, BONIFACIO, BRAVO, CABALLERO, CAÑAZACA, FERNANDEZ, FLORES, GARCIA, HERRERA, HUERTA, HUERTAS, JIMENEZ, MAMANI, MANCILLA, PABLO, PAYE, PEÑA, PIZANGO, RAMOS, SANCHEZ, SEVILLANO, TINOCO, TORRES, VALDIVIESO, VELEZ, VILLANUEVA, ZUÑIGA ]\n",
    "# Diseñar un código que muestre si el apellido de un estudiante (Ingresado por teclado) forma parte de la lista\n",
    "apellidos = ['AMES', 'ARTEAGA', 'BARRIOS', 'BONIFACIO', 'BRAVO', 'CABALLERO', 'CAÑAZACA', \n",
    "'FERNANDEZ', 'FLORES', 'GARCIA', 'HERRERA', 'HUERTA', 'HUERTAS', 'JIMENEZ', 'MAMANI', 'MANCILLA', \n",
    "'PABLO', 'PAYE', 'PEÑA', 'PIZANGO', 'RAMOS', 'SANCHEZ', 'SEVILLANO', 'TINOCO', 'TORRES', 'VALDIVIESO', \n",
    "'VELEZ', 'VILLANUEVA', 'ZUÑIGA']\n"
   ]
  },
  {
   "cell_type": "code",
   "execution_count": 6,
   "id": "269f87e0",
   "metadata": {},
   "outputs": [
    {
     "data": {
      "text/plain": [
       "['AMES',\n",
       " 'ARTEAGA',\n",
       " 'BARRIOS',\n",
       " 'BONIFACIO',\n",
       " 'BRAVO',\n",
       " 'CABALLERO',\n",
       " 'CAÑAZACA',\n",
       " 'FERNANDEZ',\n",
       " 'FLORES',\n",
       " 'GARCIA',\n",
       " 'HERRERA',\n",
       " 'HUERTA',\n",
       " 'HUERTAS',\n",
       " 'JIMENEZ',\n",
       " 'MAMANI',\n",
       " 'MANCILLA',\n",
       " 'PABLO',\n",
       " 'PAYE',\n",
       " 'PEÑA',\n",
       " 'PIZANGO',\n",
       " 'RAMOS',\n",
       " 'SANCHEZ',\n",
       " 'SEVILLANO',\n",
       " 'TINOCO',\n",
       " 'TORRES',\n",
       " 'VALDIVIESO',\n",
       " 'VELEZ',\n",
       " 'VILLANUEVA',\n",
       " 'ZUÑIGA']"
      ]
     },
     "execution_count": 6,
     "metadata": {},
     "output_type": "execute_result"
    }
   ],
   "source": [
    "apellidos"
   ]
  },
  {
   "cell_type": "code",
   "execution_count": 8,
   "id": "7603689e",
   "metadata": {},
   "outputs": [
    {
     "name": "stdout",
     "output_type": "stream",
     "text": [
      "Ingrese el apellido a buscar: TORRES\n",
      "El apellido TORRES forma parte de la lista.\n"
     ]
    }
   ],
   "source": [
    "apellido_buscar = input(\"Ingrese el apellido a buscar: \")\n",
    "\n",
    "if apellido_buscar.upper() in apellidos:\n",
    "    print(\"El apellido\", apellido_buscar, \"forma parte de la lista.\")\n",
    "else:\n",
    "    print(\"El apellido\", apellido_buscar, \"no forma parte de la lista.\")"
   ]
  },
  {
   "cell_type": "code",
   "execution_count": 9,
   "id": "97a61c2c",
   "metadata": {},
   "outputs": [
    {
     "name": "stdout",
     "output_type": "stream",
     "text": [
      "Ingrese el apellido a buscar: VEGA\n",
      "El apellido VEGA no forma parte de la lista.\n"
     ]
    }
   ],
   "source": [
    "apellido_buscar = input(\"Ingrese el apellido a buscar: \")\n",
    "\n",
    "if apellido_buscar.upper() in apellidos:\n",
    "    print(\"El apellido\", apellido_buscar, \"forma parte de la lista.\")\n",
    "else:\n",
    "    print(\"El apellido\", apellido_buscar, \"no forma parte de la lista.\")"
   ]
  },
  {
   "cell_type": "code",
   "execution_count": 10,
   "id": "746ffd61",
   "metadata": {},
   "outputs": [],
   "source": [
    "# Problema 02\n",
    "# Dado el importe total de ventas realizadas por un trabajador (ingresado por teclado,\n",
    "# categorizar que tipo de empleado es, considerando la siguiente tabla:\n",
    "\n",
    "# Categoria: A -> [0, 1000]\n",
    "# Categoria: B -> <1000, 2000]\n",
    "# Categoria: C -> <2000, 5000]\n",
    "# Categoría: D -> <5000, Mas]"
   ]
  },
  {
   "cell_type": "code",
   "execution_count": 11,
   "id": "c23a1556",
   "metadata": {},
   "outputs": [
    {
     "name": "stdout",
     "output_type": "stream",
     "text": [
      "Importe de ventas realizadas: 10000\n",
      "Categoria D\n"
     ]
    }
   ],
   "source": [
    "\n",
    "ventas = float(input(\"Importe de ventas realizadas: \"))\n",
    "if ventas < 0:\n",
    "    print(\"Datos erroneos\")\n",
    "else:\n",
    "    if ventas<=1000:\n",
    "        print(\"Categoria A\")\n",
    "    else:\n",
    "        if ventas <=2000:\n",
    "            print(\"Categoria B\")\n",
    "        else:\n",
    "            if ventas <= 5000:\n",
    "                print(\"Categoria C\")\n",
    "            else:\n",
    "                print(\"Categoria D\")\n"
   ]
  },
  {
   "cell_type": "code",
   "execution_count": 13,
   "id": "605a6fa9",
   "metadata": {},
   "outputs": [
    {
     "name": "stdout",
     "output_type": "stream",
     "text": [
      "Ingrese el importe total de ventas realizadas por el trabajador: 3200\n",
      "El trabajador pertenece a la categoría: C\n"
     ]
    }
   ],
   "source": [
    "ventas = float(input(\"Ingrese el importe total de ventas realizadas por el trabajador: \"))\n",
    "\n",
    "if ventas <= 1000:\n",
    "    categoria = \"A\"\n",
    "elif ventas <= 2000:\n",
    "    categoria = \"B\"\n",
    "elif ventas <= 5000:\n",
    "    categoria = \"C\"\n",
    "else:\n",
    "    categoria = \"D\"\n",
    "\n",
    "print(\"El trabajador pertenece a la categoría:\", categoria)\n"
   ]
  },
  {
   "cell_type": "code",
   "execution_count": 14,
   "id": "c57f4d43",
   "metadata": {},
   "outputs": [],
   "source": [
    "#2.2 estructuras repetitivas: for"
   ]
  },
  {
   "cell_type": "code",
   "execution_count": 15,
   "id": "89ec04e0",
   "metadata": {},
   "outputs": [],
   "source": [
    "aula=['Barrios','Sevillano','Huertas','Zuñiga','Tinoco']"
   ]
  },
  {
   "cell_type": "code",
   "execution_count": 16,
   "id": "0ed6b7f2",
   "metadata": {},
   "outputs": [
    {
     "data": {
      "text/plain": [
       "['Barrios', 'Sevillano', 'Huertas', 'Zuñiga', 'Tinoco']"
      ]
     },
     "execution_count": 16,
     "metadata": {},
     "output_type": "execute_result"
    }
   ],
   "source": [
    "aula"
   ]
  },
  {
   "cell_type": "code",
   "execution_count": 17,
   "id": "f0cc681d",
   "metadata": {},
   "outputs": [
    {
     "name": "stdout",
     "output_type": "stream",
     "text": [
      "Barrios\n",
      "Sevillano\n",
      "Huertas\n",
      "Zuñiga\n",
      "Tinoco\n"
     ]
    }
   ],
   "source": [
    "#por cada alumno que esta en la lista, imprimir alumno\n",
    "for alumno in aula:\n",
    "    print(alumno)"
   ]
  },
  {
   "cell_type": "code",
   "execution_count": 20,
   "id": "1069c4e4",
   "metadata": {},
   "outputs": [
    {
     "name": "stdout",
     "output_type": "stream",
     "text": [
      "ingresa cadena: hola\n",
      "h\n",
      "o\n",
      "l\n",
      "a\n"
     ]
    }
   ],
   "source": [
    "cadena =input(\"ingresa cadena: \")\n",
    "for caracter in cadena:\n",
    "    print(caracter)"
   ]
  },
  {
   "cell_type": "code",
   "execution_count": 21,
   "id": "d79bcaf1",
   "metadata": {},
   "outputs": [
    {
     "data": {
      "text/plain": [
       "range(0, 5)"
      ]
     },
     "execution_count": 21,
     "metadata": {},
     "output_type": "execute_result"
    }
   ],
   "source": [
    "# Para generar rangos de números utilizamos range()\n",
    "range(5)\n",
    "# [0, 5>"
   ]
  },
  {
   "cell_type": "code",
   "execution_count": 22,
   "id": "318595a3",
   "metadata": {},
   "outputs": [
    {
     "name": "stdout",
     "output_type": "stream",
     "text": [
      "0\n",
      "1\n",
      "2\n",
      "3\n",
      "4\n",
      "5\n",
      "6\n",
      "7\n",
      "8\n",
      "9\n",
      "10\n"
     ]
    }
   ],
   "source": [
    "# Problema 02\n",
    "# Imprimir los números de 0 a 10, utilizando for\n",
    "for numero in range(11):\n",
    "    print (numero)"
   ]
  },
  {
   "cell_type": "code",
   "execution_count": 23,
   "id": "44bdb731",
   "metadata": {},
   "outputs": [
    {
     "name": "stdout",
     "output_type": "stream",
     "text": [
      "5\n",
      "6\n",
      "7\n",
      "8\n",
      "9\n",
      "10\n"
     ]
    }
   ],
   "source": [
    "# Problema 03\n",
    "# Imprimir los números de 5 a 10, utilizando for\n",
    "for numero in range(5,11):\n",
    "    print (numero)"
   ]
  },
  {
   "cell_type": "code",
   "execution_count": 24,
   "id": "b5e45a62",
   "metadata": {},
   "outputs": [
    {
     "name": "stdout",
     "output_type": "stream",
     "text": [
      "10\n",
      "12\n",
      "14\n",
      "16\n",
      "18\n",
      "20\n"
     ]
    }
   ],
   "source": [
    "# Problema 02\n",
    "# Imprimir los números de 10 a 20, utilizando for\n",
    "for numero in range(10, 22, 2):\n",
    "    print (numero)"
   ]
  },
  {
   "cell_type": "code",
   "execution_count": 26,
   "id": "f83061e6",
   "metadata": {},
   "outputs": [
    {
     "name": "stdout",
     "output_type": "stream",
     "text": [
      "10\n",
      "13\n",
      "16\n",
      "19\n"
     ]
    }
   ],
   "source": [
    "# Problema 02\n",
    "# Imprimir los números de 10 a 20, utilizando for\n",
    "for numero in range(10, 22, 3):\n",
    "    print (numero)"
   ]
  },
  {
   "cell_type": "code",
   "execution_count": 27,
   "id": "7053f5d8",
   "metadata": {},
   "outputs": [],
   "source": [
    "# while\n",
    "# Permite ejecutar un conjunto de acciones mientras se cumpla una condición"
   ]
  },
  {
   "cell_type": "code",
   "execution_count": 28,
   "id": "f4fa0c52",
   "metadata": {},
   "outputs": [
    {
     "name": "stdout",
     "output_type": "stream",
     "text": [
      "1\n",
      "2\n",
      "3\n",
      "4\n",
      "5\n",
      "6\n",
      "7\n",
      "8\n",
      "9\n",
      "10\n"
     ]
    }
   ],
   "source": [
    "# Ejemplo:\n",
    "numero = 1\n",
    "fin = 10\n",
    "while numero <= fin:\n",
    "    print(numero)\n",
    "    numero+=1\n"
   ]
  },
  {
   "cell_type": "code",
   "execution_count": null,
   "id": "f398fcdb",
   "metadata": {},
   "outputs": [],
   "source": []
  }
 ],
 "metadata": {
  "kernelspec": {
   "display_name": "Python 3 (ipykernel)",
   "language": "python",
   "name": "python3"
  },
  "language_info": {
   "codemirror_mode": {
    "name": "ipython",
    "version": 3
   },
   "file_extension": ".py",
   "mimetype": "text/x-python",
   "name": "python",
   "nbconvert_exporter": "python",
   "pygments_lexer": "ipython3",
   "version": "3.9.12"
  }
 },
 "nbformat": 4,
 "nbformat_minor": 5
}
