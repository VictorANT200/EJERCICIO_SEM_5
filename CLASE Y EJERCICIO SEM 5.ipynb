{
 "cells": [
  {
   "cell_type": "markdown",
   "id": "1a01d201",
   "metadata": {},
   "source": [
    "#Semana 5\n",
    "Tinoco Aguilar Victor Antonio"
   ]
  },
  {
   "cell_type": "markdown",
   "id": "f161121b",
   "metadata": {},
   "source": [
    "# Semana 5\n",
    "Tinoco Aguilar Victor Antonio"
   ]
  },
  {
   "cell_type": "code",
   "execution_count": 2,
   "id": "53d34a81",
   "metadata": {},
   "outputs": [],
   "source": [
    "#1. Coleccion de datos"
   ]
  },
  {
   "cell_type": "code",
   "execution_count": 3,
   "id": "011a8496",
   "metadata": {},
   "outputs": [],
   "source": [
    "aula=['Huertas','Fernandez','Bonifacio','Caballero']"
   ]
  },
  {
   "cell_type": "code",
   "execution_count": 4,
   "id": "4a36d63e",
   "metadata": {},
   "outputs": [
    {
     "data": {
      "text/plain": [
       "['Huertas', 'Fernandez', 'Bonifacio', 'Caballero']"
      ]
     },
     "execution_count": 4,
     "metadata": {},
     "output_type": "execute_result"
    }
   ],
   "source": [
    "aula"
   ]
  },
  {
   "cell_type": "code",
   "execution_count": 5,
   "id": "7a13daed",
   "metadata": {},
   "outputs": [
    {
     "data": {
      "text/plain": [
       "['Huertas', 'Fernandez', 'Bonifacio', 'Caballero', 'Mamani', 'Bonifacio']"
      ]
     },
     "execution_count": 5,
     "metadata": {},
     "output_type": "execute_result"
    }
   ],
   "source": [
    "aula.append(\"Mamani\")\n",
    "aula.append(\"Bonifacio\")\n",
    "aula"
   ]
  },
  {
   "cell_type": "code",
   "execution_count": 6,
   "id": "85ecc8a3",
   "metadata": {
    "scrolled": true
   },
   "outputs": [
    {
     "data": {
      "text/plain": [
       "['Fernandez', 'Bonifacio', 'Caballero', 'Mamani', 'Bonifacio']"
      ]
     },
     "execution_count": 6,
     "metadata": {},
     "output_type": "execute_result"
    }
   ],
   "source": [
    "aula.remove(\"Huertas\")\n",
    "aula"
   ]
  },
  {
   "cell_type": "code",
   "execution_count": 7,
   "id": "57dd7732",
   "metadata": {},
   "outputs": [
    {
     "data": {
      "text/plain": [
       "['Fernandez', 'Caballero', 'Mamani', 'Bonifacio']"
      ]
     },
     "execution_count": 7,
     "metadata": {},
     "output_type": "execute_result"
    }
   ],
   "source": [
    "aula.remove(\"Bonifacio\")\n",
    "aula"
   ]
  },
  {
   "cell_type": "code",
   "execution_count": 8,
   "id": "dc8ce2ea",
   "metadata": {},
   "outputs": [
    {
     "data": {
      "text/plain": [
       "4"
      ]
     },
     "execution_count": 8,
     "metadata": {},
     "output_type": "execute_result"
    }
   ],
   "source": [
    "len(aula)"
   ]
  },
  {
   "cell_type": "code",
   "execution_count": 12,
   "id": "b4b1646d",
   "metadata": {},
   "outputs": [
    {
     "name": "stdout",
     "output_type": "stream",
     "text": [
      "Bonifacio\n",
      "Caballero\n",
      "Fernandez\n",
      "Mamani\n"
     ]
    }
   ],
   "source": [
    "for alumno in aula: #para recorrer podemos utilizar estructuras repetitivas\n",
    "    print(alumno)"
   ]
  },
  {
   "cell_type": "code",
   "execution_count": 10,
   "id": "c60739c1",
   "metadata": {},
   "outputs": [
    {
     "data": {
      "text/plain": [
       "['Bonifacio', 'Mamani', 'Caballero', 'Fernandez']"
      ]
     },
     "execution_count": 10,
     "metadata": {},
     "output_type": "execute_result"
    }
   ],
   "source": [
    "aula.reverse() #solo invierte\n",
    "aula"
   ]
  },
  {
   "cell_type": "code",
   "execution_count": 13,
   "id": "67a54fee",
   "metadata": {},
   "outputs": [
    {
     "data": {
      "text/plain": [
       "['Bonifacio', 'Caballero', 'Fernandez', 'Mamani']"
      ]
     },
     "execution_count": 13,
     "metadata": {},
     "output_type": "execute_result"
    }
   ],
   "source": [
    "aula.sort()#ordena en orden alfabetico\n",
    "aula"
   ]
  },
  {
   "cell_type": "code",
   "execution_count": 15,
   "id": "651c3572",
   "metadata": {},
   "outputs": [
    {
     "data": {
      "text/plain": [
       "('Fernandez', 'Bonifacio', 'Caballero', 'Mamani', 'Bonifacio')"
      ]
     },
     "execution_count": 15,
     "metadata": {},
     "output_type": "execute_result"
    }
   ],
   "source": [
    "#1.2 tuplas\n",
    "#es una coleccion de elementos ordendas(orden significa qure tienen un indice)\n",
    "#no se puede agregar elementos ni eliminar\n",
    "#se identifica por los parentesis\n",
    "tupla_aula=('Fernandez', 'Bonifacio', 'Caballero', 'Mamani', 'Bonifacio')\n",
    "tupla_aula"
   ]
  },
  {
   "cell_type": "code",
   "execution_count": 16,
   "id": "a5a49486",
   "metadata": {},
   "outputs": [
    {
     "data": {
      "text/plain": [
       "{'Bonifacio', 'Caballero', 'Fernandez', 'Mamani'}"
      ]
     },
     "execution_count": 16,
     "metadata": {},
     "output_type": "execute_result"
    }
   ],
   "source": [
    "#1.3 conjuntos\n",
    "conjunto_aula={'Fernandez', 'Bonifacio', 'Caballero', 'Mamani', 'Bonifacio'}\n",
    "conjunto_aula"
   ]
  },
  {
   "cell_type": "code",
   "execution_count": 18,
   "id": "4d3b98cd",
   "metadata": {},
   "outputs": [],
   "source": [
    "#obs: nose puede acceder por posicion pues no considera indexacion\n",
    "#por ejemplo\n",
    "#conjunto_aula[2]"
   ]
  },
  {
   "cell_type": "code",
   "execution_count": 19,
   "id": "b6effc1e",
   "metadata": {},
   "outputs": [
    {
     "data": {
      "text/plain": [
       "4"
      ]
     },
     "execution_count": 19,
     "metadata": {},
     "output_type": "execute_result"
    }
   ],
   "source": [
    "len(conjunto_aula)"
   ]
  },
  {
   "cell_type": "code",
   "execution_count": 21,
   "id": "443c8543",
   "metadata": {},
   "outputs": [
    {
     "data": {
      "text/plain": [
       "{'Bonifacio', 'Caballero', 'Fernandez', 'Mamani', 'Tinoco'}"
      ]
     },
     "execution_count": 21,
     "metadata": {},
     "output_type": "execute_result"
    }
   ],
   "source": [
    "conjunto_aula.add(\"Tinoco\")\n",
    "conjunto_aula"
   ]
  },
  {
   "cell_type": "code",
   "execution_count": 23,
   "id": "d3295b44",
   "metadata": {},
   "outputs": [
    {
     "data": {
      "text/plain": [
       "{'Bonifacio', 'Caballero', 'Fernandez', 'Mamani'}"
      ]
     },
     "execution_count": 23,
     "metadata": {},
     "output_type": "execute_result"
    }
   ],
   "source": [
    "conjunto_aula.remove(\"Tinoco\")\n",
    "conjunto_aula"
   ]
  },
  {
   "cell_type": "code",
   "execution_count": 26,
   "id": "bfc93c44",
   "metadata": {},
   "outputs": [
    {
     "data": {
      "text/plain": [
       "{2: 'Huertas',\n",
       " '1': 'Bravo',\n",
       " 'dos': 'Bonifacio',\n",
       " '3': 'Caballero',\n",
       " '0': 'Tinoco'}"
      ]
     },
     "execution_count": 26,
     "metadata": {},
     "output_type": "execute_result"
    }
   ],
   "source": [
    "#1.4 Diccionarios\n",
    "#Es una coleccion de elementos que estan indexados\n",
    "#no estan ordenados y se pueden modificar\n",
    "#son escritos entre llaves y estan formados por pares de elementos\n",
    "diccionario_aula ={2:'Huertas', '1':'Bravo', 'dos':'Bonifacio', '3':'Caballero',\n",
    "                   '0':'Tinoco'}\n",
    "diccionario_aula"
   ]
  },
  {
   "cell_type": "code",
   "execution_count": 28,
   "id": "8b07345f",
   "metadata": {},
   "outputs": [
    {
     "data": {
      "text/plain": [
       "'Tinoco'"
      ]
     },
     "execution_count": 28,
     "metadata": {},
     "output_type": "execute_result"
    }
   ],
   "source": [
    "#del diccionario aula: extrare el valor cuyo indice sea 0\n",
    "diccionario_aula['0']"
   ]
  },
  {
   "cell_type": "code",
   "execution_count": 30,
   "id": "610a00ad",
   "metadata": {},
   "outputs": [
    {
     "data": {
      "text/plain": [
       "'Huertas'"
      ]
     },
     "execution_count": 30,
     "metadata": {},
     "output_type": "execute_result"
    }
   ],
   "source": [
    "diccionario_aula[2]"
   ]
  },
  {
   "cell_type": "code",
   "execution_count": 31,
   "id": "e9db4a70",
   "metadata": {},
   "outputs": [
    {
     "data": {
      "text/plain": [
       "'Bravo'"
      ]
     },
     "execution_count": 31,
     "metadata": {},
     "output_type": "execute_result"
    }
   ],
   "source": [
    "diccionario_aula[\"1\"]"
   ]
  },
  {
   "cell_type": "code",
   "execution_count": 32,
   "id": "efbc9d25",
   "metadata": {},
   "outputs": [
    {
     "data": {
      "text/plain": [
       "'Bonifacio'"
      ]
     },
     "execution_count": 32,
     "metadata": {},
     "output_type": "execute_result"
    }
   ],
   "source": [
    "diccionario_aula[\"dos\"]"
   ]
  },
  {
   "cell_type": "code",
   "execution_count": 33,
   "id": "7741fcb1",
   "metadata": {},
   "outputs": [
    {
     "data": {
      "text/plain": [
       "{2: 'Huertas',\n",
       " '1': 'Bravo',\n",
       " 'dos': 'Bonifacio',\n",
       " '3': 'Caballero',\n",
       " '0': 'Tinoco',\n",
       " '20': 'Vega'}"
      ]
     },
     "execution_count": 33,
     "metadata": {},
     "output_type": "execute_result"
    }
   ],
   "source": [
    "#para añadir un par de elementos al diccionario:\n",
    "diccionario_aula['20']=\"Vega\"\n",
    "diccionario_aula"
   ]
  },
  {
   "cell_type": "code",
   "execution_count": 34,
   "id": "6a38dab5",
   "metadata": {},
   "outputs": [
    {
     "data": {
      "text/plain": [
       "{'1': 'Bravo',\n",
       " 'dos': 'Bonifacio',\n",
       " '3': 'Caballero',\n",
       " '0': 'Tinoco',\n",
       " '20': 'Vega'}"
      ]
     },
     "execution_count": 34,
     "metadata": {},
     "output_type": "execute_result"
    }
   ],
   "source": [
    "#para eliminar usamos el pop\n",
    "diccionario_aula.pop(2)\n",
    "diccionario_aula"
   ]
  },
  {
   "cell_type": "code",
   "execution_count": 35,
   "id": "fc4834ae",
   "metadata": {},
   "outputs": [
    {
     "data": {
      "text/plain": [
       "{'1': 'Bravo', '3': 'Caballero', '0': 'Tinoco', '20': 'Vega'}"
      ]
     },
     "execution_count": 35,
     "metadata": {},
     "output_type": "execute_result"
    }
   ],
   "source": [
    "del(diccionario_aula[\"dos\"])\n",
    "diccionario_aula"
   ]
  },
  {
   "cell_type": "code",
   "execution_count": 36,
   "id": "40fb255c",
   "metadata": {},
   "outputs": [],
   "source": [
    "# 1.5. Ejercicio\n",
    "# Dado una lista de [AMES, ARTEAGA , BARRIOS , BONIFACIO, BRAVO, CABALLERO , CAÑAZACA, FERNANDEZ , FLORES , GARCIA , HERRERA , HUERTA , HUERTAS, JIMENEZ , MAMANI , MANCILLA, PABLO , PAYE , PEÑA , PIZANGO, RAMOS, SANCHEZ,SEVILLANO, TINOCO, TORRES , VALDIVIESO, VELEZ , VILLANUEVA , ZUÑIGA]\n",
    "# Diseñar un código que muestre si el apellido de un estudiante (Ingresado por teclado) forma parte de la lista\n",
    "# tiempo: 12 minutos"
   ]
  },
  {
   "cell_type": "code",
   "execution_count": null,
   "id": "c986be4b",
   "metadata": {},
   "outputs": [],
   "source": [
    "apellidos = ['AMES', 'ARTEAGA', 'BARRIOS', 'BONIFACIO', 'BRAVO', 'CABALLERO', 'CAÑAZACA', \n",
    "'FERNANDEZ', 'FLORES', 'GARCIA', 'HERRERA', 'HUERTA', 'HUERTAS', 'JIMENEZ', 'MAMANI', 'MANCILLA', \n",
    "'PABLO', 'PAYE', 'PEÑA', 'PIZANGO', 'RAMOS', 'SANCHEZ', 'SEVILLANO', 'TINOCO', 'TORRES', 'VALDIVIESO', \n",
    "'VELEZ', 'VILLANUEVA', 'ZUÑIGA']"
   ]
  },
  {
   "cell_type": "code",
   "execution_count": 39,
   "id": "dbead590",
   "metadata": {},
   "outputs": [
    {
     "data": {
      "text/plain": [
       "['AMES',\n",
       " 'ARTEAGA',\n",
       " 'BARRIOS',\n",
       " 'BONIFACIO',\n",
       " 'BRAVO',\n",
       " 'CABALLERO',\n",
       " 'CAÑAZACA',\n",
       " 'FERNANDEZ',\n",
       " 'FLORES',\n",
       " 'GARCIA',\n",
       " 'HERRERA',\n",
       " 'HUERTA',\n",
       " 'HUERTAS',\n",
       " 'JIMENEZ',\n",
       " 'MAMANI',\n",
       " 'MANCILLA',\n",
       " 'PABLO',\n",
       " 'PAYE',\n",
       " 'PEÑA',\n",
       " 'PIZANGO',\n",
       " 'RAMOS',\n",
       " 'SANCHEZ',\n",
       " 'SEVILLANO',\n",
       " 'TINOCO',\n",
       " 'TORRES',\n",
       " 'VALDIVIESO',\n",
       " 'VELEZ',\n",
       " 'VILLANUEVA',\n",
       " 'ZUÑIGA']"
      ]
     },
     "execution_count": 39,
     "metadata": {},
     "output_type": "execute_result"
    }
   ],
   "source": [
    "apellidos"
   ]
  },
  {
   "cell_type": "code",
   "execution_count": 43,
   "id": "c6a0e400",
   "metadata": {},
   "outputs": [
    {
     "name": "stdout",
     "output_type": "stream",
     "text": [
      "Ingrese el apellido a buscar: TINOCO\n",
      "El apellido TINOCO forma parte de la lista.\n"
     ]
    }
   ],
   "source": [
    "apellido_buscar= input(\"Ingrese el apellido a buscar: \")\n",
    "if apellido_buscar.upper() in apellidos:\n",
    "    print(\"El apellido\", apellido_buscar, \"forma parte de la lista.\")\n",
    "else:\n",
    "    print(\"El apellido\", apellido_buscar, \"no forma parte de la lista.\")"
   ]
  },
  {
   "cell_type": "code",
   "execution_count": null,
   "id": "1afdadfc",
   "metadata": {},
   "outputs": [],
   "source": []
  }
 ],
 "metadata": {
  "kernelspec": {
   "display_name": "Python 3 (ipykernel)",
   "language": "python",
   "name": "python3"
  },
  "language_info": {
   "codemirror_mode": {
    "name": "ipython",
    "version": 3
   },
   "file_extension": ".py",
   "mimetype": "text/x-python",
   "name": "python",
   "nbconvert_exporter": "python",
   "pygments_lexer": "ipython3",
   "version": "3.9.12"
  }
 },
 "nbformat": 4,
 "nbformat_minor": 5
}
