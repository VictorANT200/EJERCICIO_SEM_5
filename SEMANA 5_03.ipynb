{
 "cells": [
  {
   "cell_type": "markdown",
   "id": "03e38d99",
   "metadata": {},
   "source": [
    "# semana 5 -03\n",
    "tinoco aguilar victor antonio"
   ]
  },
  {
   "cell_type": "code",
   "execution_count": 1,
   "id": "0141192f",
   "metadata": {},
   "outputs": [],
   "source": [
    "#3.Funciones"
   ]
  },
  {
   "cell_type": "code",
   "execution_count": 4,
   "id": "33b88ec5",
   "metadata": {},
   "outputs": [],
   "source": [
    "# 3.1 Métodos vacíos\n",
    "# Explicación: No recibe valores (Parámetros)"
   ]
  },
  {
   "cell_type": "code",
   "execution_count": 5,
   "id": "f8e4349e",
   "metadata": {},
   "outputs": [],
   "source": [
    "def saludo():\n",
    "    print(\"Bienvenidos al curso de LP3\")\n",
    "    print(\"**** Python ****\")"
   ]
  },
  {
   "cell_type": "code",
   "execution_count": 7,
   "id": "8c34decc",
   "metadata": {},
   "outputs": [
    {
     "name": "stdout",
     "output_type": "stream",
     "text": [
      "Bienvenidos al curso de LP3\n",
      "**** Python ****\n"
     ]
    }
   ],
   "source": [
    "saludo()"
   ]
  },
  {
   "cell_type": "code",
   "execution_count": 8,
   "id": "9c996cc4",
   "metadata": {},
   "outputs": [],
   "source": [
    "# 3.2 Métodos que reciben valores\n",
    "\n",
    "def factorial(numero):\n",
    "    fac = 1\n",
    "    for i in range(1,numero+1):\n",
    "        fac*=i\n",
    "        # fac = fac*i\n",
    "    print(f\"El factorial es: {fac}\")"
   ]
  },
  {
   "cell_type": "code",
   "execution_count": 17,
   "id": "8d91ee1a",
   "metadata": {},
   "outputs": [
    {
     "name": "stdout",
     "output_type": "stream",
     "text": [
      "Ingrese Numero: 7\n",
      "El factorial es: 5040\n"
     ]
    }
   ],
   "source": [
    "numero = int(input(\"Ingrese Numero: \"))\n",
    "factorial(numero)"
   ]
  },
  {
   "cell_type": "code",
   "execution_count": 10,
   "id": "c7caa64a",
   "metadata": {},
   "outputs": [],
   "source": [
    "# 3.3 Métodos que devuelven valores\n",
    "def saludo2():\n",
    "    mensaje = \"Bienvenidos a LP3\"\n",
    "    return mensaje"
   ]
  },
  {
   "cell_type": "code",
   "execution_count": 11,
   "id": "0efeee56",
   "metadata": {},
   "outputs": [
    {
     "name": "stdout",
     "output_type": "stream",
     "text": [
      "Bienvenidos a LP3\n"
     ]
    }
   ],
   "source": [
    "print(saludo2())"
   ]
  },
  {
   "cell_type": "code",
   "execution_count": 12,
   "id": "c5c826a0",
   "metadata": {},
   "outputs": [],
   "source": [
    "# 3.4 Métodos que reciben y devuelven valores\n",
    "\n",
    "def factorial2(numero):\n",
    "    fac = 1\n",
    "    for i in range(1,numero+1):\n",
    "        fac*=i\n",
    "        # fac = fac*i\n",
    "    return fac"
   ]
  },
  {
   "cell_type": "code",
   "execution_count": 13,
   "id": "c2555639",
   "metadata": {},
   "outputs": [
    {
     "name": "stdout",
     "output_type": "stream",
     "text": [
      "Numero: 5\n",
      "El factorial de 5 es 120\n"
     ]
    }
   ],
   "source": [
    "numero = int(input(\"Numero: \"))\n",
    "print(f\"El factorial de {numero} es {factorial2(numero)}\")"
   ]
  },
  {
   "cell_type": "code",
   "execution_count": 14,
   "id": "e5be254a",
   "metadata": {},
   "outputs": [],
   "source": [
    "# Otro ejemplo\n",
    "# Calcular el IGV\n",
    "def obtenerigv(importe):\n",
    "    return importe*0.19"
   ]
  },
  {
   "cell_type": "code",
   "execution_count": 15,
   "id": "52940472",
   "metadata": {},
   "outputs": [
    {
     "data": {
      "text/plain": [
       "28.5"
      ]
     },
     "execution_count": 15,
     "metadata": {},
     "output_type": "execute_result"
    }
   ],
   "source": [
    "obtenerigv(150)"
   ]
  },
  {
   "cell_type": "code",
   "execution_count": 16,
   "id": "fcd9b0a7",
   "metadata": {},
   "outputs": [
    {
     "data": {
      "text/plain": [
       "140"
      ]
     },
     "execution_count": 16,
     "metadata": {},
     "output_type": "execute_result"
    }
   ],
   "source": [
    "factorial2(5)+20"
   ]
  },
  {
   "cell_type": "code",
   "execution_count": null,
   "id": "4223671a",
   "metadata": {},
   "outputs": [],
   "source": []
  }
 ],
 "metadata": {
  "kernelspec": {
   "display_name": "Python 3 (ipykernel)",
   "language": "python",
   "name": "python3"
  },
  "language_info": {
   "codemirror_mode": {
    "name": "ipython",
    "version": 3
   },
   "file_extension": ".py",
   "mimetype": "text/x-python",
   "name": "python",
   "nbconvert_exporter": "python",
   "pygments_lexer": "ipython3",
   "version": "3.9.12"
  }
 },
 "nbformat": 4,
 "nbformat_minor": 5
}
